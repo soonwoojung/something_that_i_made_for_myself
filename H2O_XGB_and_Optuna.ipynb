{
  "nbformat": 4,
  "nbformat_minor": 0,
  "metadata": {
    "colab": {
      "name": "H2O_XGB_and_Optuna.ipynb",
      "provenance": []
    },
    "kernelspec": {
      "name": "python3",
      "display_name": "Python 3"
    },
    "language_info": {
      "name": "python"
    }
  },
  "cells": [
    {
      "cell_type": "code",
      "metadata": {
        "id": "sG1ihk0Ej0EO"
      },
      "source": [
        "from sklearn.model_selection import StratifiedKFold\n",
        "\n",
        "n_splits = 10\n",
        "\n",
        "skf = StratifiedKFold(n_splits=n_splits, random_state=42, shuffle=True)\n",
        "\n",
        "i =0\n",
        "for train_idx, test_idx in (skf.split(FDS_data, FDS_Tg)):\n",
        "  \n",
        "  globals()['train_feat_'+str(i+1)] = FDS_data.iloc[train_idx]\n",
        "  globals()['train_label_'+str(i+1)] = FDS_Tg.iloc[train_idx]\n",
        "\n",
        "  globals()['valid_feat_'+str(i+1)] = FDS_data.iloc[test_idx]\n",
        "  globals()['valid_label_'+str(i+1)] = FDS_Tg.iloc[test_idx]\n",
        "  i=i+1"
      ],
      "execution_count": null,
      "outputs": []
    },
    {
      "cell_type": "code",
      "metadata": {
        "id": "pBB3RyXtj1lK"
      },
      "source": [
        "for i in range(n_splits):\n",
        "  print( len(globals()['train_feat_'+str(i+1)]), len(globals()['train_label_'+str(i+1)]),\n",
        "        len(globals()['valid_feat_'+str(i+1)]), len(globals()['valid_label_'+str(i+1)]) )"
      ],
      "execution_count": null,
      "outputs": []
    },
    {
      "cell_type": "code",
      "metadata": {
        "id": "aG5uBRtXj1nY"
      },
      "source": [
        "for i in range(n_splits):\n",
        "  print(i+1)\n",
        "  globals()['h2train_feat_'+str(i+1)] = h2o.H2OFrame(globals()['train_feat_'+str(i+1)], column_names=list(FDS_data.columns))\n",
        "  globals()['h2train_target_'+str(i+1)] = h2o.H2OFrame(pd.DataFrame(globals()['train_label_'+str(i+1)]), column_names=['TARGET'])\n",
        "\n",
        "  globals()['h2valid_feat_'+str(i+1)] = h2o.H2OFrame(globals()['valid_feat_'+str(i+1)], column_names=list(FDS_data.columns))\n",
        "  globals()['h2valid_target_'+str(i+1)] = h2o.H2OFrame(pd.DataFrame(globals()['valid_label_'+str(i+1)]), column_names=['TARGET'])"
      ],
      "execution_count": null,
      "outputs": []
    },
    {
      "cell_type": "code",
      "metadata": {
        "id": "O6jTjPc-j1ph"
      },
      "source": [
        "from tqdm import tqdm\n",
        "for i in tqdm(range(n_splits)):\n",
        "  globals()['h2train_xy_'+str(i+1)] = globals()['h2train_feat_'+str(i+1)].cbind(globals()['h2train_target_'+str(i+1)])\n",
        "  globals()['h2valid_xy_'+str(i+1)] = globals()['h2valid_feat_'+str(i+1)].cbind(globals()['h2valid_target_'+str(i+1)])"
      ],
      "execution_count": null,
      "outputs": []
    },
    {
      "cell_type": "code",
      "metadata": {
        "id": "ygR2mipEj8L0"
      },
      "source": [
        "from h2o.estimators import H2OXGBoostEstimator\n",
        "import optuna\n",
        "from optuna import Trial, visualization\n",
        "import time\n",
        "\n",
        "def Objective(trial):\n",
        "    # 일반적인 Xgb 와 H2O 에서 쓰이는 Xgb의 하이퍼 파라미터가 다르다!\n",
        "    # https://docs.h2o.ai/h2o/latest-stable/h2o-docs/data-science/xgboost.html?highlight=xgboost\n",
        "\n",
        "    booster =  trial.suggest_categorical('booster', ['gbtree','dart'])# ,'dart'])\n",
        "    eta = trial.suggest_uniform('eta', 1e-6, 0.3) # range : [0,1], [default=0.3] # learn_rate 와 같다.\n",
        "    gamma = trial.suggest_uniform('gamma', 1e-6, 2) # Range: [0,∞], [default=0]\n",
        "\n",
        "    max_depth = trial.suggest_int(\"max_depth\", 4, 18, step=2) # range: [0,∞], [default=6]\n",
        "    min_child_weight = trial.suggest_uniform(\"min_child_weight\", 1, int(len(h2train_feat_1)/100)) # range: [0,∞], [default=1]\n",
        "    max_delta_step = trial.suggest_uniform(\"max_delta_step\", 1e-6, 2) # range: [0,∞], [default=0]\n",
        "\n",
        "    sample_type  =  trial.suggest_categorical('sample_type', ['uniform','weighted'])\n",
        "    max_bins =  trial.suggest_int(\"max_bins\", 256, 1024+512, step=128) \n",
        "    max_leaves = trial.suggest_int(\"max_leaves\", 0, 128, step=2) \n",
        "    # scale_pos_weight = trial.suggest_float(\"subsample\", 0.1, 10, step=0.1)# Range: [0,∞], [default=1] # h2o 에 없다.\n",
        "    \n",
        "    ntrees =  trial.suggest_int(\"ntrees\", 100, 1000, step=100) \n",
        "    tree_method = trial.suggest_categorical('tree_method', ['hist'])# ,'auto']) # auto : xgboost, hist : lgbm\n",
        "    # hist & loss guide는 한 세트\n",
        "    grow_policy = trial.suggest_categorical('grow_policy', ['lossguide'])#,'depthwise', ]) # depthwise : xgb, lossguide : Lgbm\n",
        "\n",
        "    reg_lambda = trial.suggest_uniform('reg_lambda', 1e-6, 2) # Range: [0,∞], [default=1]\n",
        "    reg_alpha = trial.suggest_uniform('reg_alpha', 1e-6, 2) # Range: [0,∞], [default=0]\n",
        "    max_abs_leafnode_pred = trial.suggest_loguniform(\"max_abs_leafnode_pred\", 1e-10, 5)\n",
        "    \n",
        "    subsample = trial.suggest_float(\"subsample\", 0.1, 1, step=0.1) # range: (0,1], [default=1]\n",
        "    colsample_bytree = trial.suggest_float(\"colsample_bytree\", 0.5, 1, step=0.05)\n",
        "    col_sample_rate_per_tree = trial.suggest_float(\"col_sample_rate_per_tree\", 0.5, 1, step=0.05)\n",
        "    # colsample_bynode = trial.suggest_float(\"colsample_bynode\", 0.5, 1, step=0.05) # - H2O ver 차이로 인해 인식을 못하는듯\n",
        "    col_sample_rate  = trial.suggest_float(\"col_sample_rate\", 0.5, 1, step=0.05)\n",
        "    \n",
        "    seed = 42\n",
        "\n",
        "    xgb_params = dict(booster=booster, \n",
        "                      eta=eta, \n",
        "                      gamma=gamma, \n",
        "\n",
        "                      max_depth=max_depth, \n",
        "                      min_child_weight=min_child_weight, \n",
        "                      max_delta_step=max_delta_step,\n",
        "\n",
        "                      sample_type=sample_type,\n",
        "                      max_bins =  max_bins,\n",
        "                      max_leaves = max_bins,\n",
        "                      # scale_pos_weight = scale_pos_weight,\n",
        "\n",
        "                      ntrees=ntrees,\n",
        "                      tree_method=tree_method,\n",
        "                      grow_policy=grow_policy,\n",
        "\n",
        "                      reg_lambda=reg_lambda, \n",
        "                      reg_alpha=reg_alpha, \n",
        "                      max_abs_leafnode_pred=max_abs_leafnode_pred,\n",
        "                      \n",
        "                      subsample=subsample, \n",
        "                      colsample_bytree=colsample_bytree, \n",
        "                      col_sample_rate_per_tree = col_sample_rate_per_tree,\n",
        "                      # colsample_bynode=colsample_bynode, # - H2O ver 차이로 인해 인식을 못하는듯\n",
        "                      col_sample_rate=col_sample_rate,\n",
        "                      \n",
        "                      seed=seed,\n",
        "                      \n",
        "                      stopping_rounds=400,\n",
        "                      stopping_tolerance=0.00001,\n",
        "                      stopping_metric=\"AUC\", # AUC, logloss\n",
        "\n",
        "                      # verbose=0,\n",
        "                     )\n",
        "    \n",
        "    CV_score_array =[]\n",
        "    #################################################################\n",
        "    #### 에러의 주범\n",
        "    predictors = list(h2train_feat_1.columns)\n",
        "    numeric_response = 'TARGET'\n",
        "    ##################################################################\n",
        "    ####\n",
        "    for i in range(n_splits):\n",
        "      start_time = time.time()\n",
        "\n",
        "    \n",
        "      globals()['h2xgb_'+str(i+1)] = H2OXGBoostEstimator(**xgb_params )\n",
        "      print('='*10,'h2xgb_'+str(i+1),'='*10)\n",
        "      globals()['h2xgb_'+str(i+1)].train(x= predictors,\n",
        "                                        y= numeric_response, \n",
        "                                        training_frame= globals()['h2train_xy_'+str(i+1)],\n",
        "                                        validation_frame = globals()['h2valid_xy_'+str(i+1)]  \n",
        "                                        )\n",
        "      CV_score_array.append(globals()['h2xgb_'+str(i+1)].auc(valid=True)) # auc, logloss\n",
        "      # H2O Criteria 보고서 적절히 auc ~~ 기타로 변경\n",
        "      # https://docs.h2o.ai/h2o/latest-stable/h2o-docs/data-science/xgboost.html?highlight=xgboost\n",
        "      print(\"time :\", time.time() - start_time)  # 현재시각 - 시작시간 = 실행 시간\n",
        "\n",
        "    avg = np.mean(CV_score_array)\n",
        "    return avg"
      ],
      "execution_count": null,
      "outputs": []
    },
    {
      "cell_type": "code",
      "metadata": {
        "id": "hqEiekXXj8OL"
      },
      "source": [
        "%%time\n",
        "import joblib\n",
        "from optuna.samplers import TPESampler\n",
        "\n",
        "sampler = TPESampler(seed=42, n_ei_candidates=256*16, n_startup_trials=128*4) #, multivariate=True, group=True) # optuna-2.8.0\n",
        "# https://optuna.readthedocs.io/en/stable/reference/generated/optuna.samplers.TPESampler.html\n",
        "\n",
        "start3 = time.time()\n",
        "\n",
        "xgb_study = optuna.create_study(direction=\"maximize\", study_name='Xgb optimization',sampler=sampler) # maximize, minimize\n",
        "\n",
        "xgb_study.optimize(Objective, timeout=3600*16) \n",
        "# https://optuna.readthedocs.io/en/stable/reference/generated/optuna.study.Study.html#optuna.study.Study.optimize\n",
        "# timeout 옵션 존재 : timeout = n_sec\n",
        "\n",
        "print(\"Total time :\", time.time() - start3)  # 현재시각 - 시작시간 = 실행 시간"
      ],
      "execution_count": null,
      "outputs": []
    },
    {
      "cell_type": "code",
      "metadata": {
        "id": "GSOamWksj8Qb"
      },
      "source": [
        "for i in range(5):\n",
        "    start_time = time.time()\n",
        "    predictors = list(h2train_feat_1.columns)\n",
        "    numeric_response = 'TARGET'\n",
        "    \n",
        "\n",
        "    globals()['h2xgb_'+str(i+1)] = H2OXGBoostEstimator(**xgb_study.best_params ) # xgb_study.best_params\n",
        "    print('='*10,'h2xgb_'+str(i+1),'='*10)\n",
        "    globals()['h2xgb_'+str(i+1)].train(x= predictors,\n",
        "                                    y= numeric_response, \n",
        "                                    training_frame= globals()['h2train_xy_'+str(i+1)],\n",
        "                                    validation_frame = globals()['h2valid_xy_'+str(i+1)]  \n",
        "                                    )\n",
        "\n",
        "    print(\"time :\", time.time() - start_time)  # 현재시각 - 시작시간 = 실행 시간"
      ],
      "execution_count": null,
      "outputs": []
    },
    {
      "cell_type": "code",
      "metadata": {
        "id": "OZFYYF_9kAPW"
      },
      "source": [
        "for i in range(n_splits):\n",
        "  print(i+1)\n",
        "  print(globals()['h2xgb_'+str(i+1)].confusion_matrix(valid=True))"
      ],
      "execution_count": null,
      "outputs": []
    },
    {
      "cell_type": "code",
      "metadata": {
        "id": "27NN78PMkBiU"
      },
      "source": [
        "perf = h2xgb_4.model_performance(valid=True)\n",
        "perf"
      ],
      "execution_count": null,
      "outputs": []
    },
    {
      "cell_type": "code",
      "metadata": {
        "id": "4NahWhJBkCqn"
      },
      "source": [
        "xgb_study.best_params"
      ],
      "execution_count": null,
      "outputs": []
    },
    {
      "cell_type": "code",
      "metadata": {
        "id": "wftVC8YBkHgx"
      },
      "source": [
        "visualization.plot_optimization_history(xgb_study)"
      ],
      "execution_count": null,
      "outputs": []
    },
    {
      "cell_type": "code",
      "metadata": {
        "id": "rNfhpTtPkHiw"
      },
      "source": [
        "fig = optuna.visualization.plot_parallel_coordinate(xgb_study)\n",
        "fig.show()"
      ],
      "execution_count": null,
      "outputs": []
    }
  ]
}