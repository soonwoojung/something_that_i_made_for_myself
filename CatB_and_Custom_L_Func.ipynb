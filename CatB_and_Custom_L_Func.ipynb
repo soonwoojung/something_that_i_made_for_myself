{
  "nbformat": 4,
  "nbformat_minor": 0,
  "metadata": {
    "colab": {
      "name": "CatB_and_Custom_L_Func.ipynb",
      "provenance": []
    },
    "kernelspec": {
      "name": "python3",
      "display_name": "Python 3"
    },
    "language_info": {
      "name": "python"
    }
  },
  "cells": [
    {
      "cell_type": "code",
      "metadata": {
        "id": "yBjIJwQolMQb"
      },
      "source": [
        "import math\n",
        "from six.moves import xrange\n",
        "\n",
        "\n",
        "class LoglossObjective(object):\n",
        "    def calc_ders_range(self, approxes, targets, weights):\n",
        "        assert len(approxes) == len(targets)\n",
        "        if weights is not None:\n",
        "            assert len(weights) == len(approxes)\n",
        "        \n",
        "        result = []\n",
        "        for index in range(len(targets)):\n",
        "            e = np.exp(approxes[index])\n",
        "            p = e / (1 + e)\n",
        "            der1 = targets[index] - p\n",
        "            der2 = -p * (1 - p)\n",
        "            \n",
        "\n",
        "            if (targets[index] == 0.0) & (p<0.5):\n",
        "                # 타겟 값이 정상 유저인데, 정상이라고 판단한 경우 ( True Negative )\n",
        "                der1 = (p)*(targets[index] - p)\n",
        "                der2 = (p)*(-p * (1 - p))\n",
        "                \n",
        "            elif (targets[index] == 0.0) & (p>=0.5):\n",
        "                # 타겟값이 노말 유저인데,fraud 라고 예측한 경우 ( False Positive )\n",
        "                der1 = 1.25*(p)*(targets[index] - p)\n",
        "                der2 = 1.25*(p)*(-p * (1 - p))\n",
        "\n",
        "            elif (targets[index] > 0.0) :\n",
        "                # 타겟 값이 fraud 이라면 p값이 높을수록 (정답에 가까울수록) 페널티가 적도록 세팅. 추가로 50% 더 페널티\n",
        "                der1 = 1.5*(1-p)*(targets[index] - p)\n",
        "                der2 = 1.5*(1-p)*(-p * (1 - p))\n",
        "                \n",
        "            if weights is not None:\n",
        "                der1 *= weights[index]\n",
        "                der2 *= weights[index]\n",
        "\n",
        "            result.append((der1, der2))\n",
        "        return result"
      ],
      "execution_count": null,
      "outputs": []
    },
    {
      "cell_type": "code",
      "metadata": {
        "id": "i4jyvUXLlu2W"
      },
      "source": [
        "%%time\n",
        "\n",
        "from catboost import CatBoostClassifier, Pool\n",
        "\n",
        "\n",
        "for i in range(n_splits):\n",
        "    print('='*20, str(i+1), '='*20) \n",
        "    \n",
        "#     cat_features = list(range(len(list(past_6m_data[cat_cols].columns))))\n",
        "    cat_feat_ls = []\n",
        "    for item in list(data[cat_cols].select_dtypes(include='category').columns):\n",
        "        cat_feat_ls.append(item)\n",
        "    \n",
        "    cat_features = cat_feat_ls\n",
        "\n",
        "    train_data = globals()[f'train_feat_{i+1}']\n",
        "    train_labels = globals()[f'train_label_{i+1}']\n",
        "    \n",
        "    valid_data = globals()[f'valid_feat_{i+1}']\n",
        "    valid_labels = globals()[f'valid_label_{i+1}']\n",
        "\n",
        "\n",
        "    globals()[f'CatB_model_{i+1}'] = CatBoostClassifier(iterations=15000,\n",
        "                                                        depth=16,\n",
        "                                                        thread_count=12,\n",
        "                                                        learning_rate=1e-3,\n",
        "                                                        loss_function=LoglossObjective(),\n",
        "                                                        eval_metric='PRAUC',\n",
        "                                                        early_stopping_rounds=400,\n",
        "                                                        \n",
        "                                                        verbose=1000)\n",
        "\n",
        "    # train the model\n",
        "    globals()[f'CatB_model_{i+1}'].fit(train_data, train_labels, cat_features, eval_set = (valid_data,valid_labels))\n",
        "\n",
        "    globals()[f'CatB_model_{i+1}'].save_model(f'CatB_C_Penalty_v6_fold_{i+1}')  \n",
        "    print(str(i+1),'fold model saved')"
      ],
      "execution_count": null,
      "outputs": []
    }
  ]
}