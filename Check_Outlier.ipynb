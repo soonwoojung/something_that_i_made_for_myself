{
  "nbformat": 4,
  "nbformat_minor": 0,
  "metadata": {
    "colab": {
      "name": "Check_Outlier.ipynb",
      "provenance": [],
      "collapsed_sections": []
    },
    "kernelspec": {
      "name": "python3",
      "display_name": "Python 3"
    },
    "language_info": {
      "name": "python"
    }
  },
  "cells": [
    {
      "cell_type": "code",
      "metadata": {
        "id": "WcYOk0I4hQGI"
      },
      "source": [
        "# get IQR\n",
        "for i,num_col in enumerate(num_cols):\n",
        "\n",
        "    globals()[f\"{num_col}_IQR\"] = 2*(data[num_col].quantile(.75) - data[num_col].quantile(.25))\n",
        "    print(i+1, f\"| {num_col}_IQR =\", globals()[f\"{num_col}_IQR\"])"
      ],
      "execution_count": null,
      "outputs": []
    },
    {
      "cell_type": "code",
      "metadata": {
        "id": "z-s8w4tShTwD"
      },
      "source": [
        "outlier_col_name = list(num_cols.copy())\n",
        "\n",
        "for i,col_name in enumerate(outlier_col_name):\n",
        "    outlier_col_name[i] = f\"is_OutLier_{col_name}\"\n",
        "    \n",
        "outlier_col_name"
      ],
      "execution_count": null,
      "outputs": []
    },
    {
      "cell_type": "code",
      "metadata": {
        "id": "LY9cAZvOhTya"
      },
      "source": [
        "%%time\n",
        "# Detect Outlier\n",
        "\n",
        "# numpy 계산 : 207ms\n",
        "# def 호출 numpy 계산 : 443ms\n",
        "# 1차 loop 에서 반복 최소화 : 61ms\n",
        "# Vectorize 로 복잡한 연산(함수를 통한 전처리)은 해봤는데, 잘 안되던데.. 어떻게 하는거지\n",
        "\n",
        "is_Outlier= np.zeros((len(data),len(num_cols)))\n",
        "###\n",
        "train = data[num_cols]\n",
        "###\n",
        "\n",
        "def check_outlier(original_np,  outlier_np,  low_cut,  high_cut,  col_id):\n",
        "    \n",
        "    \n",
        "    for i in range(len(original_np)):\n",
        "\n",
        "        if original_np[i,col_id] < low_cut :\n",
        "                original_np[i,col_id] = low_cut\n",
        "                outlier_np[i,col_id] = 1\n",
        "\n",
        "        if original_np[i,col_id] > high_cut :\n",
        "                original_np[i,col_id] = high_cut\n",
        "                outlier_np[i,col_id] = 1\n",
        " \n",
        "    return original_np[:,col_id], outlier_np[:,col_id]\n",
        "    \n",
        "\n",
        "\n",
        "for col_id, col in enumerate(num_cols):\n",
        "    low_cut = train[col].quantile(.25) - globals()[f\"{col}_IQR\"]\n",
        "    high_cut = train[col].quantile(.75) + globals()[f\"{col}_IQR\"]\n",
        "\n",
        "    train.loc[:,col], is_Outlier[:,col_id] = check_outlier(train.to_numpy(),is_Outlier,low_cut,high_cut,col_id)\n",
        "            \n",
        "        \n",
        "is_Outlier = pd.DataFrame(is_Outlier, columns = outlier_col_name)\n",
        "train_OutL = pd.concat([train,is_Outlier],axis=1)\n",
        "train_OutL"
      ],
      "execution_count": null,
      "outputs": []
    }
  ]
}